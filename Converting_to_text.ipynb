{
 "cells": [
  {
   "cell_type": "code",
   "execution_count": 22,
   "metadata": {
    "ExecuteTime": {
     "end_time": "2017-09-16T12:45:38.863544",
     "start_time": "2017-09-16T12:45:38.565412"
    },
    "collapsed": true
   },
   "outputs": [],
   "source": [
    "import sys\n",
    "import logging\n",
    "import six\n",
    "\n",
    "sys.path.insert(0, '/opt/pdfminer.six')\n",
    "import pdfminer.settings\n",
    "pdfminer.settings.STRICT = False\n",
    "import pdfminer.high_level\n",
    "import pdfminer.layout\n",
    "from pdfminer.image import ImageWriter\n",
    "import os"
   ]
  },
  {
   "cell_type": "code",
   "execution_count": 23,
   "metadata": {
    "ExecuteTime": {
     "end_time": "2017-09-16T12:47:45.499492",
     "start_time": "2017-09-16T12:47:45.491192"
    }
   },
   "outputs": [
    {
     "name": "stdout",
     "output_type": "stream",
     "text": [
      "['/opt/pdfminer.six', '/opt/pdfminer.six', '', 'C:\\\\Users\\\\acer1\\\\Anaconda2\\\\python27.zip', 'C:\\\\Users\\\\acer1\\\\Anaconda2\\\\DLLs', 'C:\\\\Users\\\\acer1\\\\Anaconda2\\\\lib', 'C:\\\\Users\\\\acer1\\\\Anaconda2\\\\lib\\\\plat-win', 'C:\\\\Users\\\\acer1\\\\Anaconda2\\\\lib\\\\lib-tk', 'C:\\\\Users\\\\acer1\\\\Anaconda2', 'C:\\\\Users\\\\acer1\\\\Anaconda2\\\\lib\\\\site-packages', 'C:\\\\Users\\\\acer1\\\\Anaconda2\\\\lib\\\\site-packages\\\\Sphinx-1.5.6-py2.7.egg', 'C:\\\\Users\\\\acer1\\\\Anaconda2\\\\lib\\\\site-packages\\\\win32', 'C:\\\\Users\\\\acer1\\\\Anaconda2\\\\lib\\\\site-packages\\\\win32\\\\lib', 'C:\\\\Users\\\\acer1\\\\Anaconda2\\\\lib\\\\site-packages\\\\Pythonwin', 'C:\\\\Users\\\\acer1\\\\Anaconda2\\\\lib\\\\site-packages\\\\setuptools-27.2.0-py2.7.egg', 'C:\\\\Users\\\\acer1\\\\Anaconda2\\\\lib\\\\site-packages\\\\IPython\\\\extensions', 'C:\\\\Users\\\\acer1\\\\.ipython']\n"
     ]
    }
   ],
   "source": [
    "print(sys.path)"
   ]
  },
  {
   "cell_type": "code",
   "execution_count": 24,
   "metadata": {
    "ExecuteTime": {
     "end_time": "2017-09-16T12:45:40.453640",
     "start_time": "2017-09-16T12:45:40.406967"
    },
    "collapsed": true
   },
   "outputs": [],
   "source": [
    "def extract_text(files=[], outfile='-',\n",
    "            _py2_no_more_posargs=None,  # Bloody Python2 needs a shim\n",
    "            no_laparams=False, all_texts=None, detect_vertical=None, # LAParams\n",
    "            word_margin=None, char_margin=None, line_margin=None, boxes_flow=None, # LAParams\n",
    "            output_type='text', codec='utf-8', strip_control=False,\n",
    "            maxpages=0, page_numbers=None, password=\"\", scale=1.0, rotation=0,\n",
    "            layoutmode='normal', output_dir=None, debug=False,\n",
    "            disable_caching=False, **other):\n",
    "    if _py2_no_more_posargs is not None:\n",
    "        raise ValueError(\"Too many positional arguments passed.\")\n",
    "    if not files:\n",
    "        raise ValueError(\"Must provide files to work upon!\")\n",
    "\n",
    "    # If any LAParams group arguments were passed, create an LAParams object and\n",
    "    # populate with given args. Otherwise, set it to None.\n",
    "    if not no_laparams:\n",
    "        laparams = pdfminer.layout.LAParams()\n",
    "        for param in (\"all_texts\", \"detect_vertical\", \"word_margin\", \"char_margin\", \"line_margin\", \"boxes_flow\"):\n",
    "            paramv = locals().get(param, None)\n",
    "            if paramv is not None:\n",
    "                setattr(laparams, param, paramv)\n",
    "    else:\n",
    "        laparams = None\n",
    "\n",
    "    imagewriter = None\n",
    "    if output_dir:\n",
    "        imagewriter = ImageWriter(output_dir)\n",
    "\n",
    "    if output_type == \"text\" and outfile != \"-\":\n",
    "        for override, alttype in (  (\".htm\", \"html\"),\n",
    "                                    (\".html\", \"html\"),\n",
    "                                    (\".xml\", \"xml\"),\n",
    "                                    (\".tag\", \"tag\") ):\n",
    "            if outfile.endswith(override):\n",
    "                output_type = alttype\n",
    "\n",
    "    if outfile == \"-\":\n",
    "        outfp = sys.stdout\n",
    "        if outfp.encoding is not None:\n",
    "            codec = 'utf-8'\n",
    "    else:\n",
    "        outfp = open(outfile, \"wb\")\n",
    "\n",
    "\n",
    "    for fname in files:\n",
    "        with open(fname, \"rb\") as fp:\n",
    "            pdfminer.high_level.extract_text_to_fp(fp, **locals())\n",
    "    return outfp\n"
   ]
  },
  {
   "cell_type": "code",
   "execution_count": 25,
   "metadata": {
    "collapsed": true
   },
   "outputs": [],
   "source": [
    "for file in os.listdir(\"D:\\Court Misclassification\\Known misclass opinions\\Non-garbage irrelevant\"):\n",
    "    extract_text(['D:\\Court Misclassification\\Known misclass opinions\\Non-garbage irrelevant\\%s'%file], 'D:\\Court Misclassification\\Known misclass opinions\\Non-garbage irrelevant text\\%s.txt'%file)"
   ]
  },
  {
   "cell_type": "code",
   "execution_count": null,
   "metadata": {
    "collapsed": true
   },
   "outputs": [],
   "source": []
  }
 ],
 "metadata": {
  "hide_input": false,
  "kernelspec": {
   "display_name": "Python 2",
   "language": "python",
   "name": "python2"
  },
  "language_info": {
   "codemirror_mode": {
    "name": "ipython",
    "version": 2
   },
   "file_extension": ".py",
   "mimetype": "text/x-python",
   "name": "python",
   "nbconvert_exporter": "python",
   "pygments_lexer": "ipython2",
   "version": "2.7.13"
  },
  "toc": {
   "nav_menu": {
    "height": "12px",
    "width": "252px"
   },
   "navigate_menu": true,
   "number_sections": true,
   "sideBar": true,
   "threshold": 4,
   "toc_cell": false,
   "toc_section_display": "block",
   "toc_window_display": false
  }
 },
 "nbformat": 4,
 "nbformat_minor": 1
}
