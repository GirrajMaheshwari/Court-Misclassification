{
 "cells": [
  {
   "cell_type": "code",
   "execution_count": null,
   "metadata": {
    "collapsed": true
   },
   "outputs": [],
   "source": [
    "#Code to test whether independent contractor of mis class exist in +-2 distance"
   ]
  },
  {
   "cell_type": "code",
   "execution_count": 2,
   "metadata": {
    "collapsed": true
   },
   "outputs": [],
   "source": [
    "import re\n",
    "import os\n",
    "import pandas as pd\n",
    "import numpy as np\n",
    "from nltk.stem import PorterStemmer\n",
    "ps = PorterStemmer()"
   ]
  },
  {
   "cell_type": "code",
   "execution_count": null,
   "metadata": {
    "collapsed": true
   },
   "outputs": [],
   "source": [
    "df1 = pd.DataFrame( columns = [\"FileName\", \"Target\"])\n",
    "file in os.listdir(\"D://Court Misclassification//Known misclass opinions//Predicting motion judgement//Harry text file\"):\n",
    "    d1 = open(\"D:\\Court Misclassification\\Known misclass opinions\\Predicting motion judgement\\Harry text file\\%s\"%file,'r')\n",
    "    d2 = d1.read().lower()\n",
    "    t1 = [ps.stem(y.decode(\"utf8\",\"ignore\")) for y in d2.split() ]\n",
    "    ls = \" \".join(t1)\n",
    "    texts = ls.split(\". \")\n",
    "    data = []\n",
    "    for i in range(2, len(texts)-2):\n",
    "        if \"independ contractor\" in texts[i] or \"misclassif\" in texts[i]:\n",
    "            data = data + texts[i-2:i+3]\n",
    "    \n",
    "    #Join the data\n",
    "    data1 = set(data)\n",
    "    ls1 = \" \".join(data1)\n",
    "    if \"employee\" in ls1:\n",
    "        Target = 1\n",
    "    else:\n",
    "        Target = 0\n",
    "    Filename = file\n",
    "    print file, Target   \n",
    "    df.loc[n]= [\"Filename\", \"Target\"]"
   ]
  },
  {
   "cell_type": "code",
   "execution_count": 8,
   "metadata": {},
   "outputs": [
    {
     "data": {
      "text/plain": [
       "(u'independ', 'contractor', u'misclassif', u'employe')"
      ]
     },
     "execution_count": 8,
     "metadata": {},
     "output_type": "execute_result"
    }
   ],
   "source": [
    "#ps.stem(\"Independent\"), ps.stem(\"contractor\"), ps.stem(\"misclassification\"), ps.stem(\"employee\")"
   ]
  }
 ],
 "metadata": {
  "kernelspec": {
   "display_name": "Python 2",
   "language": "python",
   "name": "python2"
  },
  "language_info": {
   "codemirror_mode": {
    "name": "ipython",
    "version": 2
   },
   "file_extension": ".py",
   "mimetype": "text/x-python",
   "name": "python",
   "nbconvert_exporter": "python",
   "pygments_lexer": "ipython2",
   "version": "2.7.13"
  }
 },
 "nbformat": 4,
 "nbformat_minor": 2
}
