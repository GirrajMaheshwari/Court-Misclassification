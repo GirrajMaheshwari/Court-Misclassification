{
 "cells": [
  {
   "cell_type": "code",
   "execution_count": 69,
   "metadata": {},
   "outputs": [],
   "source": [
    "#Lawyers\n",
    "import nltk\n",
    "from nltk.corpus import stopwords\n",
    "from nltk import word_tokenize, pos_tag, ne_chunk\n",
    "import itertools\n",
    "import pandas as pd\n",
    "import os\n",
    "stop = stopwords.words('english')"
   ]
  },
  {
   "cell_type": "code",
   "execution_count": 47,
   "metadata": {},
   "outputs": [
    {
     "name": "stdout",
     "output_type": "stream",
     "text": [
      "['166*166 Lauren J. Wachtler', 'Paul D. Montclare', 'Mitchell Silberberg & Knupp LLP', 'Bruce Allen Schoenberg', 'Schrader & Schoenberg', 'LLP', 'New York', 'NY', 'Patricia H. Benson', 'Gilbert S. Lee', 'Mitchell Silberberg & Knupp LLP', 'Los Angeles', 'CA', 'Plaintiffs.']\n",
      "[('166*166 Lauren J. Wachtler', 'CD'), ('Paul D. Montclare', 'NNP'), ('Mitchell Silberberg & Knupp LLP', 'NNP'), ('Bruce Allen Schoenberg', 'NNP'), ('Schrader & Schoenberg', 'NNP'), ('LLP', 'NNP'), ('New York', 'NNP'), ('NY', 'NNP'), ('Patricia H. Benson', 'NNP'), ('Gilbert S. Lee', 'NNP'), ('Mitchell Silberberg & Knupp LLP', 'NNP'), ('Los Angeles', 'NNP'), ('CA', 'NNP'), ('Plaintiffs.', 'NNP')]\n",
      "1 1 F. Supp. 3d 163.txt \n"
     ]
    }
   ],
   "source": [
    "import pandas as pd\n",
    "import os\n",
    "df1 = pd.DataFrame(columns = [\"Files\", \"lawyer_name\"])\n",
    "n = 0\n",
    "for files in os.listdir(\"C://Users//acer1//Desktop//Course content//Court misclassification//Google Scholar//Google\")[1:2]:\n",
    "    try:\n",
    "        d1 = d1 = open(\"C://Users//acer1//Desktop//Course content//Court misclassification//Google Scholar//Google//%s\"%files)\n",
    "        d2 = d1.read()\n",
    "        d3 = d2.split(\"\\n\")[0:40]\n",
    "        d4_rep = []\n",
    "        for lines in d3:\n",
    "            if \"represented by\" in lines:\n",
    "                d4_rep = d4_rep + [lines.split(\"represented by\")[1]]\n",
    "        d4_for_pd = [x for x in d3 if \"for Plaintiff\" in x or \"for Defendent\" in x]\n",
    "        d_all = d4_rep + d4_for_pd\n",
    "        ls = \" \".join(d_all)\n",
    "        #ls\n",
    "        document = ' '.join([i for i in ls.split() if i not in stop]).replace(\", \", \",\").split(\",\")\n",
    "        #sentences = nltk.sent_tokenize(document)\n",
    "        #print sentences\n",
    "        #sentences = [nltk.word_tokenize(sent) for sent in sentences]\n",
    "        print document\n",
    "        #sentences = [nltk.pos_tag([sent]) for sent in document]\n",
    "        sentences = nltk.pos_tag(document)\n",
    "        print sentences\n",
    "        \n",
    "        lst = [x[0] for x in sentences[0] if x[1] == \"NN\" or x[1] == \"NNS\" or x[1] == \",\"]\n",
    "        w = ','\n",
    "        spl = [\" \".join(list(y)) for x, y in itertools.groupby(lst, lambda z: z == w) if not x]\n",
    "        spl = list(set(spl))\n",
    "        lawyer_name = \",\".join(spl)\n",
    "        df1.loc[n] = [files,lawyer_name]\n",
    "        n = n + 1\n",
    "        print n ,files, lawyer_name\n",
    "    except:\n",
    "        n = n + 1"
   ]
  },
  {
   "cell_type": "code",
   "execution_count": 60,
   "metadata": {},
   "outputs": [
    {
     "data": {
      "text/plain": [
       "[('Paul', 'NNP')]"
      ]
     },
     "execution_count": 60,
     "metadata": {},
     "output_type": "execute_result"
    }
   ],
   "source": [
    "nltk.AffixTagger"
   ]
  },
  {
   "cell_type": "code",
   "execution_count": 7,
   "metadata": {},
   "outputs": [
    {
     "data": {
      "text/html": [
       "<div>\n",
       "<style>\n",
       "    .dataframe thead tr:only-child th {\n",
       "        text-align: right;\n",
       "    }\n",
       "\n",
       "    .dataframe thead th {\n",
       "        text-align: left;\n",
       "    }\n",
       "\n",
       "    .dataframe tbody tr th {\n",
       "        vertical-align: top;\n",
       "    }\n",
       "</style>\n",
       "<table border=\"1\" class=\"dataframe\">\n",
       "  <thead>\n",
       "    <tr style=\"text-align: right;\">\n",
       "      <th></th>\n",
       "      <th>Files</th>\n",
       "      <th>lawyer_name</th>\n",
       "    </tr>\n",
       "  </thead>\n",
       "  <tbody>\n",
       "    <tr>\n",
       "      <th>1</th>\n",
       "      <td>1 F. Supp. 3d 163.txt</td>\n",
       "      <td>schoenberg,h. benson,paul d. montclare,s. lee,...</td>\n",
       "    </tr>\n",
       "    <tr>\n",
       "      <th>2</th>\n",
       "      <td>1 F. Supp. 3d 319.txt</td>\n",
       "      <td>d. lieder,lewis,washington,anton zevnik,llc,m....</td>\n",
       "    </tr>\n",
       "    <tr>\n",
       "      <th>3</th>\n",
       "      <td>10 F. Supp. 3d 848.txt</td>\n",
       "      <td>fort lauderdale,law office robert w. murphy,ja...</td>\n",
       "    </tr>\n",
       "    <tr>\n",
       "      <th>4</th>\n",
       "      <td>100 F. Supp. 3d 1013.txt</td>\n",
       "      <td>law group,diego,llp,markham,c. talley,plaintif...</td>\n",
       "    </tr>\n",
       "    <tr>\n",
       "      <th>5</th>\n",
       "      <td>100 F. Supp. 3d 172.txt</td>\n",
       "      <td>pattis law firm,e. rolfes,daniel murphy erwin,...</td>\n",
       "    </tr>\n",
       "  </tbody>\n",
       "</table>\n",
       "</div>"
      ],
      "text/plain": [
       "                      Files                                        lawyer_name\n",
       "1     1 F. Supp. 3d 163.txt  schoenberg,h. benson,paul d. montclare,s. lee,...\n",
       "2     1 F. Supp. 3d 319.txt  d. lieder,lewis,washington,anton zevnik,llc,m....\n",
       "3    10 F. Supp. 3d 848.txt  fort lauderdale,law office robert w. murphy,ja...\n",
       "4  100 F. Supp. 3d 1013.txt  law group,diego,llp,markham,c. talley,plaintif...\n",
       "5   100 F. Supp. 3d 172.txt  pattis law firm,e. rolfes,daniel murphy erwin,..."
      ]
     },
     "execution_count": 7,
     "metadata": {},
     "output_type": "execute_result"
    }
   ],
   "source": [
    "df1.head()"
   ]
  },
  {
   "cell_type": "code",
   "execution_count": 8,
   "metadata": {
    "collapsed": true
   },
   "outputs": [],
   "source": [
    "df1.to_csv(\"C://Users//acer1//Desktop//Course content//Court misclassification//Google Scholar//Lawyer_name.csv\")"
   ]
  },
  {
   "cell_type": "code",
   "execution_count": null,
   "metadata": {
    "collapsed": true
   },
   "outputs": [],
   "source": []
  },
  {
   "cell_type": "code",
   "execution_count": null,
   "metadata": {
    "collapsed": true
   },
   "outputs": [],
   "source": [
    "#Judges"
   ]
  },
  {
   "cell_type": "code",
   "execution_count": null,
   "metadata": {
    "collapsed": true
   },
   "outputs": [],
   "source": [
    "import pandas as pd\n",
    "import os\n",
    "df = pd.DataFrame(columns = [\"Files\", \"Judge Name\"])\n",
    "n = 0\n",
    "for files in os.listdir(\"C://Users//acer1//Desktop//Course content//Court misclassification//Google Scholar//Google\"):\n",
    "    try:\n",
    "        d1 = open(\"C://Users//acer1//Desktop//Course content//Court misclassification//Google Scholar//Google//%s\"%files)\n",
    "        d2 = d1.read().lower()\n",
    "        d3 = d2.split(\"\\n\")[0:40]\n",
    "\n",
    "        d4_judge = []\n",
    "        for lines in d3:\n",
    "            if \"judge\" in lines and (\"district\" in lines or \"magistrate\" in lines or \"civil\" in lines or \"chief\" in lines) and len(lines.split(\" \")) < 10 :\n",
    "                d4_judge = d4_judge + [lines.split(\"judge\")[0]]\n",
    "        Judge_name = \" \".join(d4_judge)\n",
    "        \n",
    "        df.loc[n] = [files,Judge_name]\n",
    "        n = n + 1\n",
    "        print n ,files, Judge_name\n",
    "    except:\n",
    "        n = n + 1"
   ]
  },
  {
   "cell_type": "code",
   "execution_count": null,
   "metadata": {
    "collapsed": true
   },
   "outputs": [],
   "source": [
    "df.to_csv(\"C://Users//acer1//Desktop//Course content//Court misclassification//Google Scholar//Judge_Name.csv\")"
   ]
  }
 ],
 "metadata": {
  "kernelspec": {
   "display_name": "Python 2",
   "language": "python",
   "name": "python2"
  },
  "language_info": {
   "codemirror_mode": {
    "name": "ipython",
    "version": 2
   },
   "file_extension": ".py",
   "mimetype": "text/x-python",
   "name": "python",
   "nbconvert_exporter": "python",
   "pygments_lexer": "ipython2",
   "version": "2.7.13"
  }
 },
 "nbformat": 4,
 "nbformat_minor": 2
}
